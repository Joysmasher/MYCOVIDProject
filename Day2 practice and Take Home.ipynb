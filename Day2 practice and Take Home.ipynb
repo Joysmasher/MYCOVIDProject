{
 "cells": [
  {
   "cell_type": "code",
   "execution_count": 4,
   "metadata": {},
   "outputs": [],
   "source": [
    "My_List1 = [\"Bihar\",\"Punjab\",\"Assam\",\"Odisha\",\"Kerela\"]\n",
    "My_List2 = [10249, 5668,8582,7316,4593]\n",
    "My_Dict = {\"Bihar\": 10249,\"Punjab\": 5668,\"Assam\": 8582,\"Odisha\": 7316,\"Kerela\": 4593}"
   ]
  },
  {
   "cell_type": "code",
   "execution_count": 5,
   "metadata": {},
   "outputs": [
    {
     "data": {
      "text/plain": [
       "5"
      ]
     },
     "execution_count": 5,
     "metadata": {},
     "output_type": "execute_result"
    }
   ],
   "source": [
    "len(My_List1)"
   ]
  },
  {
   "cell_type": "code",
   "execution_count": 7,
   "metadata": {},
   "outputs": [
    {
     "data": {
      "text/plain": [
       "10249"
      ]
     },
     "execution_count": 7,
     "metadata": {},
     "output_type": "execute_result"
    }
   ],
   "source": [
    "My_Dict[\"Bihar\"]"
   ]
  },
  {
   "cell_type": "code",
   "execution_count": 9,
   "metadata": {},
   "outputs": [
    {
     "data": {
      "text/plain": [
       "8582"
      ]
     },
     "execution_count": 9,
     "metadata": {},
     "output_type": "execute_result"
    }
   ],
   "source": [
    "My_Dict[\"Assam\"]"
   ]
  },
  {
   "cell_type": "code",
   "execution_count": 10,
   "metadata": {},
   "outputs": [],
   "source": [
    "a=7"
   ]
  },
  {
   "cell_type": "code",
   "execution_count": 11,
   "metadata": {},
   "outputs": [
    {
     "data": {
      "text/plain": [
       "True"
      ]
     },
     "execution_count": 11,
     "metadata": {},
     "output_type": "execute_result"
    }
   ],
   "source": [
    "a==7"
   ]
  },
  {
   "cell_type": "code",
   "execution_count": 12,
   "metadata": {},
   "outputs": [],
   "source": [
    "b=6"
   ]
  },
  {
   "cell_type": "code",
   "execution_count": 13,
   "metadata": {},
   "outputs": [
    {
     "data": {
      "text/plain": [
       "False"
      ]
     },
     "execution_count": 13,
     "metadata": {},
     "output_type": "execute_result"
    }
   ],
   "source": [
    "b==7"
   ]
  },
  {
   "cell_type": "code",
   "execution_count": 14,
   "metadata": {},
   "outputs": [
    {
     "data": {
      "text/plain": [
       "True"
      ]
     },
     "execution_count": 14,
     "metadata": {},
     "output_type": "execute_result"
    }
   ],
   "source": [
    "b>2"
   ]
  },
  {
   "cell_type": "code",
   "execution_count": 15,
   "metadata": {},
   "outputs": [
    {
     "data": {
      "text/plain": [
       "True"
      ]
     },
     "execution_count": 15,
     "metadata": {},
     "output_type": "execute_result"
    }
   ],
   "source": [
    "b<7"
   ]
  },
  {
   "cell_type": "code",
   "execution_count": 19,
   "metadata": {},
   "outputs": [
    {
     "data": {
      "text/plain": [
       "10"
      ]
     },
     "execution_count": 19,
     "metadata": {},
     "output_type": "execute_result"
    }
   ],
   "source": [
    "def add(x,y):\n",
    "    return(x+y)\n",
    "add(4,6)"
   ]
  },
  {
   "cell_type": "code",
   "execution_count": 26,
   "metadata": {},
   "outputs": [
    {
     "data": {
      "text/plain": [
       "0.6666666666666666"
      ]
     },
     "execution_count": 26,
     "metadata": {},
     "output_type": "execute_result"
    }
   ],
   "source": [
    "def division(a,b):\n",
    "    return(b/a)\n",
    "division(6,4)"
   ]
  },
  {
   "cell_type": "code",
   "execution_count": 27,
   "metadata": {},
   "outputs": [
    {
     "data": {
      "text/plain": [
       "2"
      ]
     },
     "execution_count": 27,
     "metadata": {},
     "output_type": "execute_result"
    }
   ],
   "source": [
    "def substract(a,b):\n",
    "    return(a-b)\n",
    "substract(6,4)"
   ]
  },
  {
   "cell_type": "code",
   "execution_count": 28,
   "metadata": {},
   "outputs": [],
   "source": [
    "def ifr(infected, deaths):\n",
    "    ifr = (deaths/infected)*100\n",
    "    print(\"The IFR = {}%\".format(ifr))"
   ]
  },
  {
   "cell_type": "code",
   "execution_count": 29,
   "metadata": {},
   "outputs": [
    {
     "name": "stdout",
     "output_type": "stream",
     "text": [
      "The IFR = 0.1%\n"
     ]
    }
   ],
   "source": [
    "ifr(10000,10)"
   ]
  },
  {
   "cell_type": "code",
   "execution_count": 30,
   "metadata": {},
   "outputs": [
    {
     "name": "stdout",
     "output_type": "stream",
     "text": [
      "The IFR = 0.4196521834741337%\n"
     ]
    }
   ],
   "source": [
    "ifr(436552,1832)"
   ]
  },
  {
   "cell_type": "code",
   "execution_count": 36,
   "metadata": {},
   "outputs": [
    {
     "name": "stdout",
     "output_type": "stream",
     "text": [
      "All states in India are:['Maharashtra', 'Tamil Nadu', 'Delhi', 'Gujarat', 'Uttar Pradesh', 'West Bengal', 'Rajasthan', 'Telangana', 'Karnataka', 'Andhra Pradesh', 'Haryana', 'Madhya Pradesh', 'Bihar', 'Assam', 'Jammu Kashmir', 'Odisha', 'Punjab', 'Kerela', 'Uttarakhand', 'Chattisgadh', 'Jharkhand', 'Tripura', 'Goa', 'Manipur', 'Ladakh', 'Himachal pradesh', 'Puducherry', 'Nagaland', 'Chandigadh', 'Dadra and Nagar Haveli', 'Arunachal Pradesh', 'Mizoram', 'Sikkim', 'Andaman and Nicobar', 'Meghalaya', 'Lakshadweep']\n",
      "Total Cases per state:[180298, 94049, 89802, 33232, 24056, 19170, 18312, 17357, 16514, 15252, 14941, 13861, 10249, 8582, 7695, 7316, 5668, 4593, 2947, 2940, 2521, 1396, 1387, 1260, 990, 979, 714, 459, 446, 215, 195, 160, 101, 100, 52, 0]\n",
      "The resultant dictionary is:{'Maharashtra': 180298, 'Tamil Nadu': 94049, 'Delhi': 89802, 'Gujarat': 33232, 'Uttar Pradesh': 24056, 'West Bengal': 19170, 'Rajasthan': 18312, 'Telangana': 17357, 'Karnataka': 16514, 'Andhra Pradesh': 15252, 'Haryana': 14941, 'Madhya Pradesh': 13861, 'Bihar': 10249, 'Assam': 8582, 'Jammu Kashmir': 7695, 'Odisha': 7316, 'Punjab': 5668, 'Kerela': 4593, 'Uttarakhand': 2947, 'Chattisgadh': 2940, 'Jharkhand': 2521, 'Tripura': 1396, 'Goa': 1387, 'Manipur': 1260, 'Ladakh': 990, 'Himachal pradesh': 979, 'Puducherry': 714, 'Nagaland': 459, 'Chandigadh': 446, 'Dadra and Nagar Haveli': 215, 'Arunachal Pradesh': 195, 'Mizoram': 160, 'Sikkim': 101, 'Andaman and Nicobar': 100, 'Meghalaya': 52, 'Lakshadweep': 0}\n"
     ]
    }
   ],
   "source": [
    "All_States = ['Maharashtra', 'Tamil Nadu', 'Delhi', 'Gujarat', 'Uttar Pradesh', 'West Bengal', 'Rajasthan', 'Telangana', 'Karnataka', 'Andhra Pradesh', 'Haryana', 'Madhya Pradesh', 'Bihar', 'Assam', 'Jammu Kashmir', 'Odisha', 'Punjab', 'Kerela', 'Uttarakhand', 'Chattisgadh', 'Jharkhand', 'Tripura', 'Goa', 'Manipur', 'Ladakh', 'Himachal pradesh', 'Puducherry', 'Nagaland', 'Chandigadh', 'Dadra and Nagar Haveli', 'Arunachal Pradesh', 'Mizoram', 'Sikkim', 'Andaman and Nicobar', 'Meghalaya', 'Lakshadweep']\n",
    "Total_Cases = [180298, 94049, 89802, 33232, 24056, 19170, 18312, 17357, 16514, 15252, 14941, 13861, 10249, 8582, 7695, 7316, 5668, 4593, 2947, 2940, 2521, 1396, 1387, 1260, 990, 979, 714, 459, 446, 215, 195, 160, 101, 100, 52, 0]\n",
    "Total_Recovered = (93154, 52926, 59992, 24030, 16629, 12528, 14574, 8082, 8063, 6988, 10499, 10655, 7946, 5851, 4856, 5353, 3867, 2439, 2317, 2303, 1931, 1093, 670, 579, 694, 614, 272, 168, 367, 86, 86, 66, 123, 53, 50, 42, 0)\n",
    "\n",
    "# Printing the values of the list\n",
    "print (\"All states in India are:\" + str(All_States))\n",
    "print (\"Total Cases per state:\" + str(Total_Cases))\n",
    "\n",
    "# by using dictionary comprehention converting lists to dictionary\n",
    "res = {All_States[i]:Total_Cases[i] for i in range(len(All_States))}\n",
    "\n",
    "# to print the newly formed dictionary \n",
    "print (\"The resultant dictionary is:\" + str(res))"
   ]
  },
  {
   "cell_type": "code",
   "execution_count": 37,
   "metadata": {},
   "outputs": [
    {
     "name": "stdout",
     "output_type": "stream",
     "text": [
      "The CFR is = 0.006999999999999999%\n"
     ]
    }
   ],
   "source": [
    "def cfr(deaths,population):\n",
    "    cfr = (deaths/population)*100\n",
    "    print(\"The CFR is = {}%\".format(cfr))\n",
    "cfr(70,1000000)"
   ]
  },
  {
   "cell_type": "code",
   "execution_count": null,
   "metadata": {},
   "outputs": [],
   "source": []
  }
 ],
 "metadata": {
  "kernelspec": {
   "display_name": "Python 3",
   "language": "python",
   "name": "python3"
  },
  "language_info": {
   "codemirror_mode": {
    "name": "ipython",
    "version": 3
   },
   "file_extension": ".py",
   "mimetype": "text/x-python",
   "name": "python",
   "nbconvert_exporter": "python",
   "pygments_lexer": "ipython3",
   "version": "3.7.6"
  }
 },
 "nbformat": 4,
 "nbformat_minor": 4
}
